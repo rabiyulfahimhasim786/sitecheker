{
  "nbformat": 4,
  "nbformat_minor": 0,
  "metadata": {
    "colab": {
      "provenance": [],
      "collapsed_sections": []
    },
    "kernelspec": {
      "name": "python3",
      "display_name": "Python 3"
    },
    "language_info": {
      "name": "python"
    }
  },
  "cells": [
    {
      "cell_type": "code",
      "source": [
        "#"
      ],
      "metadata": {
        "id": "f5Pl5mS-Lce-"
      },
      "execution_count": 1,
      "outputs": []
    },
    {
      "cell_type": "markdown",
      "source": [
        "**Website status code checker**"
      ],
      "metadata": {
        "id": "9Nw_FFmaANsx"
      }
    },
    {
      "cell_type": "code",
      "execution_count": null,
      "metadata": {
        "colab": {
          "base_uri": "https://localhost:8080/"
        },
        "id": "zQfHeyxGLU7G",
        "outputId": "6a9dc91e-346f-429b-8d41-2dd8a89c3df8"
      },
      "outputs": [
        {
          "output_type": "stream",
          "name": "stdout",
          "text": [
            "NOT OK: HTTP response code 429\n"
          ]
        }
      ],
      "source": [
        "import requests\n",
        "\n",
        "URL = \"https://www.instagram.com/happy_captures_/\"\n",
        "\n",
        "try:\n",
        "    response = requests.get(URL)\n",
        "except Exception as e:\n",
        "    print(f\"NOT OK: {str(e)}\")\n",
        "else:\n",
        "    if response.status_code == 200:\n",
        "        print(\"OK\")\n",
        "    else:\n",
        "        print(f\"NOT OK: HTTP response code {response.status_code}\")"
      ]
    },
    {
      "cell_type": "code",
      "source": [
        "# reading by columns and getting output as list\n",
        "import pandas as pd\n",
        "import csv\n",
        "with open('testing.csv', encoding='utf-8-sig') as csvfile:\n",
        "    reader = csv.reader(csvfile)\n",
        "    count = 0\n",
        "    fsa=[]\n",
        "    for row in reader:\n",
        "        count = count+1\n",
        "        #print(row[2])\n",
        "        fsa.append(row[1])\n",
        "print(fsa[1:])\n",
        "#print(fsa[3:])"
      ],
      "metadata": {
        "colab": {
          "base_uri": "https://localhost:8080/"
        },
        "id": "nmcqklafLl5a",
        "outputId": "31daca84-feec-467b-f36b-e2215e05d20b"
      },
      "execution_count": null,
      "outputs": [
        {
          "output_type": "stream",
          "name": "stdout",
          "text": [
            "['https://www.google.com/', 'http://zunamelt.com/']\n"
          ]
        }
      ]
    },
    {
      "cell_type": "code",
      "source": [
        "import requests\n",
        "easy = []\n",
        "for x in fsa[1:]:\n",
        "  try:\n",
        "    response = requests.get(x)\n",
        "  except Exception as e:\n",
        "    print(f\"NOT OK: {str(e)}\")\n",
        "    a = f\"NOT OK: {str(e)}\"\n",
        "    easy.append(a)\n",
        "  else:\n",
        "      if response.status_code == 200:\n",
        "        print(\"OK\")\n",
        "        a = \"OK\"\n",
        "        easy.append(a)\n",
        "      else:\n",
        "        print(f\"NOT OK: HTTP response code {response.status_code}\")\n",
        "        a = f\"NOT OK: HTTP response code {response.status_code}\"\n",
        "        easy.append(a)\n",
        "        #print(x)\n",
        "print(easy)"
      ],
      "metadata": {
        "colab": {
          "base_uri": "https://localhost:8080/"
        },
        "id": "qcZWgRTxL0gp",
        "outputId": "9587966c-4b08-4a76-818a-44b098c4d8c9"
      },
      "execution_count": null,
      "outputs": [
        {
          "output_type": "stream",
          "name": "stdout",
          "text": [
            "OK\n",
            "OK\n",
            "['OK', 'OK']\n"
          ]
        }
      ]
    },
    {
      "cell_type": "code",
      "source": [
        "import pandas as pd\n",
        "df = pd.DataFrame({'urls': fsa[1:],\n",
        "                   'status_code': easy,})\n",
        "#print(df.loc[0])\n",
        "\n",
        "\n",
        "df\n",
        "#df.to_csv(\"output.csv\", index=None)"
      ],
      "metadata": {
        "colab": {
          "base_uri": "https://localhost:8080/",
          "height": 112
        },
        "id": "6zhaxsMaMaeC",
        "outputId": "e246cf80-9373-4150-8bad-c9eee0e6f487"
      },
      "execution_count": null,
      "outputs": [
        {
          "output_type": "execute_result",
          "data": {
            "text/plain": [
              "                      urls status_code\n",
              "0  https://www.google.com/          OK\n",
              "1     http://zunamelt.com/          OK"
            ],
            "text/html": [
              "\n",
              "  <div id=\"df-fba2f9fe-0bad-438d-afe3-4ae153576840\">\n",
              "    <div class=\"colab-df-container\">\n",
              "      <div>\n",
              "<style scoped>\n",
              "    .dataframe tbody tr th:only-of-type {\n",
              "        vertical-align: middle;\n",
              "    }\n",
              "\n",
              "    .dataframe tbody tr th {\n",
              "        vertical-align: top;\n",
              "    }\n",
              "\n",
              "    .dataframe thead th {\n",
              "        text-align: right;\n",
              "    }\n",
              "</style>\n",
              "<table border=\"1\" class=\"dataframe\">\n",
              "  <thead>\n",
              "    <tr style=\"text-align: right;\">\n",
              "      <th></th>\n",
              "      <th>urls</th>\n",
              "      <th>status_code</th>\n",
              "    </tr>\n",
              "  </thead>\n",
              "  <tbody>\n",
              "    <tr>\n",
              "      <th>0</th>\n",
              "      <td>https://www.google.com/</td>\n",
              "      <td>OK</td>\n",
              "    </tr>\n",
              "    <tr>\n",
              "      <th>1</th>\n",
              "      <td>http://zunamelt.com/</td>\n",
              "      <td>OK</td>\n",
              "    </tr>\n",
              "  </tbody>\n",
              "</table>\n",
              "</div>\n",
              "      <button class=\"colab-df-convert\" onclick=\"convertToInteractive('df-fba2f9fe-0bad-438d-afe3-4ae153576840')\"\n",
              "              title=\"Convert this dataframe to an interactive table.\"\n",
              "              style=\"display:none;\">\n",
              "        \n",
              "  <svg xmlns=\"http://www.w3.org/2000/svg\" height=\"24px\"viewBox=\"0 0 24 24\"\n",
              "       width=\"24px\">\n",
              "    <path d=\"M0 0h24v24H0V0z\" fill=\"none\"/>\n",
              "    <path d=\"M18.56 5.44l.94 2.06.94-2.06 2.06-.94-2.06-.94-.94-2.06-.94 2.06-2.06.94zm-11 1L8.5 8.5l.94-2.06 2.06-.94-2.06-.94L8.5 2.5l-.94 2.06-2.06.94zm10 10l.94 2.06.94-2.06 2.06-.94-2.06-.94-.94-2.06-.94 2.06-2.06.94z\"/><path d=\"M17.41 7.96l-1.37-1.37c-.4-.4-.92-.59-1.43-.59-.52 0-1.04.2-1.43.59L10.3 9.45l-7.72 7.72c-.78.78-.78 2.05 0 2.83L4 21.41c.39.39.9.59 1.41.59.51 0 1.02-.2 1.41-.59l7.78-7.78 2.81-2.81c.8-.78.8-2.07 0-2.86zM5.41 20L4 18.59l7.72-7.72 1.47 1.35L5.41 20z\"/>\n",
              "  </svg>\n",
              "      </button>\n",
              "      \n",
              "  <style>\n",
              "    .colab-df-container {\n",
              "      display:flex;\n",
              "      flex-wrap:wrap;\n",
              "      gap: 12px;\n",
              "    }\n",
              "\n",
              "    .colab-df-convert {\n",
              "      background-color: #E8F0FE;\n",
              "      border: none;\n",
              "      border-radius: 50%;\n",
              "      cursor: pointer;\n",
              "      display: none;\n",
              "      fill: #1967D2;\n",
              "      height: 32px;\n",
              "      padding: 0 0 0 0;\n",
              "      width: 32px;\n",
              "    }\n",
              "\n",
              "    .colab-df-convert:hover {\n",
              "      background-color: #E2EBFA;\n",
              "      box-shadow: 0px 1px 2px rgba(60, 64, 67, 0.3), 0px 1px 3px 1px rgba(60, 64, 67, 0.15);\n",
              "      fill: #174EA6;\n",
              "    }\n",
              "\n",
              "    [theme=dark] .colab-df-convert {\n",
              "      background-color: #3B4455;\n",
              "      fill: #D2E3FC;\n",
              "    }\n",
              "\n",
              "    [theme=dark] .colab-df-convert:hover {\n",
              "      background-color: #434B5C;\n",
              "      box-shadow: 0px 1px 3px 1px rgba(0, 0, 0, 0.15);\n",
              "      filter: drop-shadow(0px 1px 2px rgba(0, 0, 0, 0.3));\n",
              "      fill: #FFFFFF;\n",
              "    }\n",
              "  </style>\n",
              "\n",
              "      <script>\n",
              "        const buttonEl =\n",
              "          document.querySelector('#df-fba2f9fe-0bad-438d-afe3-4ae153576840 button.colab-df-convert');\n",
              "        buttonEl.style.display =\n",
              "          google.colab.kernel.accessAllowed ? 'block' : 'none';\n",
              "\n",
              "        async function convertToInteractive(key) {\n",
              "          const element = document.querySelector('#df-fba2f9fe-0bad-438d-afe3-4ae153576840');\n",
              "          const dataTable =\n",
              "            await google.colab.kernel.invokeFunction('convertToInteractive',\n",
              "                                                     [key], {});\n",
              "          if (!dataTable) return;\n",
              "\n",
              "          const docLinkHtml = 'Like what you see? Visit the ' +\n",
              "            '<a target=\"_blank\" href=https://colab.research.google.com/notebooks/data_table.ipynb>data table notebook</a>'\n",
              "            + ' to learn more about interactive tables.';\n",
              "          element.innerHTML = '';\n",
              "          dataTable['output_type'] = 'display_data';\n",
              "          await google.colab.output.renderOutput(dataTable, element);\n",
              "          const docLink = document.createElement('div');\n",
              "          docLink.innerHTML = docLinkHtml;\n",
              "          element.appendChild(docLink);\n",
              "        }\n",
              "      </script>\n",
              "    </div>\n",
              "  </div>\n",
              "  "
            ]
          },
          "metadata": {},
          "execution_count": 6
        }
      ]
    },
    {
      "cell_type": "code",
      "source": [
        "import requests\n",
        "\n",
        "def check_ssl(url):\n",
        "    try:\n",
        "        req = requests.get(url, verify=True)\n",
        "        print(url + ' has a valid SSL certificate!')\n",
        "    except requests.exceptions.SSLError:\n",
        "        print(url + ' has INVALID SSL certificate!')\n",
        "\n",
        "check_ssl('https://google.com')\n",
        "check_ssl('https://doctorchatbot.zunamelt.com/')"
      ],
      "metadata": {
        "colab": {
          "base_uri": "https://localhost:8080/"
        },
        "id": "msMjCL81ib9G",
        "outputId": "05f27de2-0615-4fa7-a008-bc3f3654f83e"
      },
      "execution_count": null,
      "outputs": [
        {
          "output_type": "stream",
          "name": "stdout",
          "text": [
            "https://google.com has a valid SSL certificate!\n",
            "https://doctorchatbot.zunamelt.com/ has INVALID SSL certificate!\n"
          ]
        }
      ]
    },
    {
      "cell_type": "code",
      "source": [
        "import requests\n",
        "ssl = []\n",
        "for url in fsa[1:]:\n",
        "  try:\n",
        "    req = requests.get(url, verify=True)\n",
        "    a = url + ' has a valid SSL certificate!'\n",
        "    ssl.append(a)\n",
        "    print(url + ' has a valid SSL certificate!')\n",
        "  except requests.exceptions.SSLError:\n",
        "    a = url + ' has INVALID SSL certificate!'\n",
        "    ssl.append(a)\n",
        "    print(url + ' has INVALID SSL certificate!')\n",
        "  \n",
        "print(ssl)"
      ],
      "metadata": {
        "id": "_MJBEEGQLvLy",
        "colab": {
          "base_uri": "https://localhost:8080/"
        },
        "outputId": "aad2eabb-b329-4ef7-ce8a-b3e692be74fd"
      },
      "execution_count": null,
      "outputs": [
        {
          "output_type": "stream",
          "name": "stdout",
          "text": [
            "https://www.google.com/ has a valid SSL certificate!\n",
            "http://zunamelt.com/ has a valid SSL certificate!\n",
            "['https://www.google.com/ has a valid SSL certificate!', 'http://zunamelt.com/ has a valid SSL certificate!']\n"
          ]
        }
      ]
    },
    {
      "cell_type": "code",
      "source": [
        "import pandas as pd\n",
        "df = pd.DataFrame({'urls': fsa[1:],\n",
        "                   'status_code': ssl,})\n",
        "#print(df.loc[0])\n",
        "\n",
        "\n",
        "df"
      ],
      "metadata": {
        "colab": {
          "base_uri": "https://localhost:8080/",
          "height": 112
        },
        "id": "3BVJOrNHjEET",
        "outputId": "9628f447-3497-4fc3-d250-55558bf88c0a"
      },
      "execution_count": null,
      "outputs": [
        {
          "output_type": "execute_result",
          "data": {
            "text/plain": [
              "                      urls                                        status_code\n",
              "0  https://www.google.com/  https://www.google.com/ has a valid SSL certif...\n",
              "1     http://zunamelt.com/  http://zunamelt.com/ has a valid SSL certificate!"
            ],
            "text/html": [
              "\n",
              "  <div id=\"df-a42a22dd-87bd-44ea-a1cc-b24273f54a0e\">\n",
              "    <div class=\"colab-df-container\">\n",
              "      <div>\n",
              "<style scoped>\n",
              "    .dataframe tbody tr th:only-of-type {\n",
              "        vertical-align: middle;\n",
              "    }\n",
              "\n",
              "    .dataframe tbody tr th {\n",
              "        vertical-align: top;\n",
              "    }\n",
              "\n",
              "    .dataframe thead th {\n",
              "        text-align: right;\n",
              "    }\n",
              "</style>\n",
              "<table border=\"1\" class=\"dataframe\">\n",
              "  <thead>\n",
              "    <tr style=\"text-align: right;\">\n",
              "      <th></th>\n",
              "      <th>urls</th>\n",
              "      <th>status_code</th>\n",
              "    </tr>\n",
              "  </thead>\n",
              "  <tbody>\n",
              "    <tr>\n",
              "      <th>0</th>\n",
              "      <td>https://www.google.com/</td>\n",
              "      <td>https://www.google.com/ has a valid SSL certif...</td>\n",
              "    </tr>\n",
              "    <tr>\n",
              "      <th>1</th>\n",
              "      <td>http://zunamelt.com/</td>\n",
              "      <td>http://zunamelt.com/ has a valid SSL certificate!</td>\n",
              "    </tr>\n",
              "  </tbody>\n",
              "</table>\n",
              "</div>\n",
              "      <button class=\"colab-df-convert\" onclick=\"convertToInteractive('df-a42a22dd-87bd-44ea-a1cc-b24273f54a0e')\"\n",
              "              title=\"Convert this dataframe to an interactive table.\"\n",
              "              style=\"display:none;\">\n",
              "        \n",
              "  <svg xmlns=\"http://www.w3.org/2000/svg\" height=\"24px\"viewBox=\"0 0 24 24\"\n",
              "       width=\"24px\">\n",
              "    <path d=\"M0 0h24v24H0V0z\" fill=\"none\"/>\n",
              "    <path d=\"M18.56 5.44l.94 2.06.94-2.06 2.06-.94-2.06-.94-.94-2.06-.94 2.06-2.06.94zm-11 1L8.5 8.5l.94-2.06 2.06-.94-2.06-.94L8.5 2.5l-.94 2.06-2.06.94zm10 10l.94 2.06.94-2.06 2.06-.94-2.06-.94-.94-2.06-.94 2.06-2.06.94z\"/><path d=\"M17.41 7.96l-1.37-1.37c-.4-.4-.92-.59-1.43-.59-.52 0-1.04.2-1.43.59L10.3 9.45l-7.72 7.72c-.78.78-.78 2.05 0 2.83L4 21.41c.39.39.9.59 1.41.59.51 0 1.02-.2 1.41-.59l7.78-7.78 2.81-2.81c.8-.78.8-2.07 0-2.86zM5.41 20L4 18.59l7.72-7.72 1.47 1.35L5.41 20z\"/>\n",
              "  </svg>\n",
              "      </button>\n",
              "      \n",
              "  <style>\n",
              "    .colab-df-container {\n",
              "      display:flex;\n",
              "      flex-wrap:wrap;\n",
              "      gap: 12px;\n",
              "    }\n",
              "\n",
              "    .colab-df-convert {\n",
              "      background-color: #E8F0FE;\n",
              "      border: none;\n",
              "      border-radius: 50%;\n",
              "      cursor: pointer;\n",
              "      display: none;\n",
              "      fill: #1967D2;\n",
              "      height: 32px;\n",
              "      padding: 0 0 0 0;\n",
              "      width: 32px;\n",
              "    }\n",
              "\n",
              "    .colab-df-convert:hover {\n",
              "      background-color: #E2EBFA;\n",
              "      box-shadow: 0px 1px 2px rgba(60, 64, 67, 0.3), 0px 1px 3px 1px rgba(60, 64, 67, 0.15);\n",
              "      fill: #174EA6;\n",
              "    }\n",
              "\n",
              "    [theme=dark] .colab-df-convert {\n",
              "      background-color: #3B4455;\n",
              "      fill: #D2E3FC;\n",
              "    }\n",
              "\n",
              "    [theme=dark] .colab-df-convert:hover {\n",
              "      background-color: #434B5C;\n",
              "      box-shadow: 0px 1px 3px 1px rgba(0, 0, 0, 0.15);\n",
              "      filter: drop-shadow(0px 1px 2px rgba(0, 0, 0, 0.3));\n",
              "      fill: #FFFFFF;\n",
              "    }\n",
              "  </style>\n",
              "\n",
              "      <script>\n",
              "        const buttonEl =\n",
              "          document.querySelector('#df-a42a22dd-87bd-44ea-a1cc-b24273f54a0e button.colab-df-convert');\n",
              "        buttonEl.style.display =\n",
              "          google.colab.kernel.accessAllowed ? 'block' : 'none';\n",
              "\n",
              "        async function convertToInteractive(key) {\n",
              "          const element = document.querySelector('#df-a42a22dd-87bd-44ea-a1cc-b24273f54a0e');\n",
              "          const dataTable =\n",
              "            await google.colab.kernel.invokeFunction('convertToInteractive',\n",
              "                                                     [key], {});\n",
              "          if (!dataTable) return;\n",
              "\n",
              "          const docLinkHtml = 'Like what you see? Visit the ' +\n",
              "            '<a target=\"_blank\" href=https://colab.research.google.com/notebooks/data_table.ipynb>data table notebook</a>'\n",
              "            + ' to learn more about interactive tables.';\n",
              "          element.innerHTML = '';\n",
              "          dataTable['output_type'] = 'display_data';\n",
              "          await google.colab.output.renderOutput(dataTable, element);\n",
              "          const docLink = document.createElement('div');\n",
              "          docLink.innerHTML = docLinkHtml;\n",
              "          element.appendChild(docLink);\n",
              "        }\n",
              "      </script>\n",
              "    </div>\n",
              "  </div>\n",
              "  "
            ]
          },
          "metadata": {},
          "execution_count": 7
        }
      ]
    },
    {
      "cell_type": "markdown",
      "source": [
        "**SSL Expiry date checker**"
      ],
      "metadata": {
        "id": "RBWp_MoTAVqI"
      }
    },
    {
      "cell_type": "code",
      "source": [
        "import socket\n",
        "import ssl\n",
        "import datetime\n",
        "\n",
        "domains_url = [\n",
        "\"devnote.in\",\n",
        "\"devnote_wrong.in\",\n",
        "\"stackoverflow.com\",\n",
        "\"stackoverflow.com/status/404\"\n",
        "]\n",
        "\n",
        "def ssl_expiry_datetime(hostname):\n",
        "    ssl_dateformat = r'%b %d %H:%M:%S %Y %Z'\n",
        "\n",
        "    context = ssl.create_default_context()\n",
        "    context.check_hostname = False\n",
        "\n",
        "    conn = context.wrap_socket(\n",
        "        socket.socket(socket.AF_INET),\n",
        "        server_hostname=hostname,\n",
        "    )\n",
        "    # 5 second timeout\n",
        "    conn.settimeout(5.0)\n",
        "\n",
        "    conn.connect((hostname, 443))\n",
        "    ssl_info = conn.getpeercert()\n",
        "    # Python datetime object\n",
        "    return datetime.datetime.strptime(ssl_info['notAfter'], ssl_dateformat)\n",
        "\n",
        "if __name__ == \"__main__\":\n",
        "    for value in domains_url:\n",
        "        now = datetime.datetime.now()\n",
        "        try:\n",
        "            expire = ssl_expiry_datetime(value)\n",
        "            diff = expire - now\n",
        "            print (\"Domain name: {} Expiry Date: {} Expiry Day: {}\".format(value,expire.strftime(\"%Y-%m-%d\"),diff.days))\n",
        "        except Exception as e:\n",
        "            print (e)\n"
      ],
      "metadata": {
        "colab": {
          "base_uri": "https://localhost:8080/"
        },
        "id": "mfDixF5EAVWR",
        "outputId": "33f80210-ebad-4319-892c-daa6b274ec9f"
      },
      "execution_count": 2,
      "outputs": [
        {
          "output_type": "stream",
          "name": "stdout",
          "text": [
            "Domain name: devnote.in Expiry Date: 2022-12-13 Expiry Day: 35\n",
            "[Errno -2] Name or service not known\n",
            "Domain name: stackoverflow.com Expiry Date: 2023-02-01 Expiry Day: 85\n",
            "[Errno -2] Name or service not known\n"
          ]
        }
      ]
    },
    {
      "cell_type": "code",
      "source": [
        "import socket\n",
        "import ssl\n",
        "import datetime\n",
        "\n",
        "domains_url = [\n",
        "\"devnote.in\",\n",
        "\"devnote_wrong.in\",\n",
        "\"stackoverflow.com\",\n",
        "\"stackoverflow.com/status/404\"\n",
        "]\n",
        "\n",
        "def ssl_expiry_datetime(hostname):\n",
        "    ssl_dateformat = r'%b %d %H:%M:%S %Y %Z'\n",
        "\n",
        "    context = ssl.create_default_context()\n",
        "    context.check_hostname = False\n",
        "\n",
        "    conn = context.wrap_socket(\n",
        "        socket.socket(socket.AF_INET),\n",
        "        server_hostname=hostname,\n",
        "    )\n",
        "    # 5 second timeout\n",
        "    conn.settimeout(5.0)\n",
        "\n",
        "    conn.connect((hostname, 443))\n",
        "    ssl_info = conn.getpeercert()\n",
        "    # Python datetime object\n",
        "    return datetime.datetime.strptime(ssl_info['notAfter'], ssl_dateformat)\n",
        "\n",
        "\n",
        "for value in domains_url:\n",
        "  now = datetime.datetime.now()\n",
        "  try:\n",
        "    expire = ssl_expiry_datetime(value)\n",
        "    diff = expire - now\n",
        "    print (\"Domain name: {} Expiry Date: {} Expiry Day: {}\".format(value,expire.strftime(\"%Y-%m-%d\"),diff.days))\n",
        "  except Exception as e:\n",
        "    print (e)\n"
      ],
      "metadata": {
        "colab": {
          "base_uri": "https://localhost:8080/"
        },
        "id": "-7PXOOfPApOn",
        "outputId": "f44a6030-f909-42f2-a9c9-214172102bd3"
      },
      "execution_count": 3,
      "outputs": [
        {
          "output_type": "stream",
          "name": "stdout",
          "text": [
            "Domain name: devnote.in Expiry Date: 2022-12-13 Expiry Day: 35\n",
            "[Errno -2] Name or service not known\n",
            "Domain name: stackoverflow.com Expiry Date: 2023-02-01 Expiry Day: 85\n",
            "[Errno -2] Name or service not known\n"
          ]
        }
      ]
    },
    {
      "cell_type": "code",
      "source": [
        "# reading by columns and getting output as list\n",
        "import pandas as pd\n",
        "import csv\n",
        "with open('testing.csv', encoding='utf-8-sig') as csvfile:\n",
        "  reader = csv.reader(csvfile)\n",
        "  count = 0\n",
        "  fsa=[]\n",
        "  for row in reader:\n",
        "    count = count+1\n",
        "    #print(row[2])\n",
        "    fsa.append(row[0])\n",
        "print(fsa[1:])"
      ],
      "metadata": {
        "colab": {
          "base_uri": "https://localhost:8080/"
        },
        "id": "EbV9fLsyBKE0",
        "outputId": "9538ff77-cba3-452b-a2e4-6ffb103e6a48"
      },
      "execution_count": 17,
      "outputs": [
        {
          "output_type": "stream",
          "name": "stdout",
          "text": [
            "['https://www.google.com/', 'http://zunamelt.com/', 'https://zunamelt.com/', 'https://trophydeals.com/']\n"
          ]
        }
      ]
    },
    {
      "cell_type": "code",
      "source": [
        "import re\n",
        "urls = []\n",
        "for x in fsa[1:]:\n",
        "  #print(x)\n",
        "  url = re.sub(\"^(https?://)?(http?://)?(www\\.)?\", \"\", x.strip('/'))\n",
        "  urls.append(url)\n",
        "print(urls)"
      ],
      "metadata": {
        "colab": {
          "base_uri": "https://localhost:8080/"
        },
        "id": "jIza-CCDCIW8",
        "outputId": "1ae62bf9-5ba9-4138-9fb8-f5f513df2089"
      },
      "execution_count": 18,
      "outputs": [
        {
          "output_type": "stream",
          "name": "stdout",
          "text": [
            "['google.com', 'zunamelt.com', 'zunamelt.com', 'trophydeals.com']\n"
          ]
        }
      ]
    },
    {
      "cell_type": "code",
      "source": [
        "# reading by columns and getting output as list\n",
        "import pandas as pd\n",
        "import csv\n",
        "import re\n",
        "with open('testing.csv', encoding='utf-8-sig') as csvfile:\n",
        "  reader = csv.reader(csvfile)\n",
        "  count = 0\n",
        "  fsa=[]\n",
        "  for row in reader:\n",
        "    count = count+1\n",
        "    #print(row[2])\n",
        "    fsa.append(row[0])\n",
        "print(fsa[1:])\n",
        "#import re\n",
        "urls = []\n",
        "for x in fsa[1:]:\n",
        "  #print(x)\n",
        "  url = re.sub(\"^(https?://)?(http?://)?(www\\.)?\", \"\", x.strip('/'))\n",
        "  urls.append(url)\n",
        "print(urls)"
      ],
      "metadata": {
        "colab": {
          "base_uri": "https://localhost:8080/"
        },
        "id": "mAH0pT9EC7nG",
        "outputId": "d527dfa6-a447-4403-fb85-b6a86a73d56d"
      },
      "execution_count": 19,
      "outputs": [
        {
          "output_type": "stream",
          "name": "stdout",
          "text": [
            "['https://www.google.com/', 'http://zunamelt.com/', 'https://zunamelt.com/', 'https://trophydeals.com/']\n",
            "['google.com', 'zunamelt.com', 'zunamelt.com', 'trophydeals.com']\n"
          ]
        }
      ]
    },
    {
      "cell_type": "code",
      "source": [
        "import socket\n",
        "import ssl\n",
        "import datetime\n",
        "\n",
        "# domains_url = [\n",
        "# \"devnote.in\",\n",
        "# \"devnote_wrong.in\",\n",
        "# \"stackoverflow.com\",\n",
        "# \"stackoverflow.com/status/404\"\n",
        "# ]\n",
        "domains_url = urls\n",
        "\n",
        "def ssl_expiry_datetime(hostname):\n",
        "    ssl_dateformat = r'%b %d %H:%M:%S %Y %Z'\n",
        "\n",
        "    context = ssl.create_default_context()\n",
        "    context.check_hostname = False\n",
        "\n",
        "    conn = context.wrap_socket(\n",
        "        socket.socket(socket.AF_INET),\n",
        "        server_hostname=hostname,\n",
        "    )\n",
        "    # 5 second timeout\n",
        "    conn.settimeout(5.0)\n",
        "\n",
        "    conn.connect((hostname, 443))\n",
        "    ssl_info = conn.getpeercert()\n",
        "    # Python datetime object\n",
        "    return datetime.datetime.strptime(ssl_info['notAfter'], ssl_dateformat)\n",
        "\n",
        "\n",
        "for value in domains_url:\n",
        "  now = datetime.datetime.now()\n",
        "  try:\n",
        "    expire = ssl_expiry_datetime(value)\n",
        "    diff = expire - now\n",
        "    print (\"Domain name: {} Expiry Date: {} Expiry Day: {}\".format(value,expire.strftime(\"%Y-%m-%d\"),diff.days))\n",
        "  except Exception as e:\n",
        "    print (e)\n"
      ],
      "metadata": {
        "colab": {
          "base_uri": "https://localhost:8080/"
        },
        "id": "3KC_wE2xDSnZ",
        "outputId": "d4ce27e3-440d-41f2-8e78-e5678f88e2e6"
      },
      "execution_count": 21,
      "outputs": [
        {
          "output_type": "stream",
          "name": "stdout",
          "text": [
            "Domain name: google.com Expiry Date: 2023-01-09 Expiry Day: 62\n",
            "Domain name: zunamelt.com Expiry Date: 2022-12-28 Expiry Day: 50\n",
            "Domain name: zunamelt.com Expiry Date: 2022-12-28 Expiry Day: 50\n",
            "Domain name: trophydeals.com Expiry Date: 2023-07-27 Expiry Day: 261\n"
          ]
        }
      ]
    },
    {
      "cell_type": "code",
      "source": [
        "\n"
      ],
      "metadata": {
        "id": "SQ1Pidw-DV6L"
      },
      "execution_count": null,
      "outputs": []
    }
  ]
}